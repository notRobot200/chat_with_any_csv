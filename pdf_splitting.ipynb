{
 "cells": [
  {
   "cell_type": "code",
   "execution_count": 12,
   "metadata": {},
   "outputs": [],
   "source": [
    "# ! pip install pypdf"
   ]
  },
  {
   "cell_type": "code",
   "execution_count": 13,
   "metadata": {},
   "outputs": [],
   "source": [
    "from langchain.document_loaders import PyPDFLoader\n",
    "loader = PyPDFLoader(\"docs/pdf/buku_panduan_e-office.pdf\")\n",
    "pages = loader.load()"
   ]
  },
  {
   "cell_type": "code",
   "execution_count": 14,
   "metadata": {},
   "outputs": [
    {
     "data": {
      "text/plain": [
       "[Document(metadata={'producer': 'Pdftools SDK', 'creator': 'PyPDF', 'creationdate': '', 'moddate': '2025-02-15T05:48:46+00:00', 'source': 'docs/pdf/buku_panduan_e-office.pdf', 'total_pages': 53, 'page': 0, 'page_label': '1'}, page_content='Dokumen Panduan Pengguna dan \\nTeknis \\nAplikasi e-office'),\n",
       " Document(metadata={'producer': 'Pdftools SDK', 'creator': 'PyPDF', 'creationdate': '', 'moddate': '2025-02-15T05:48:46+00:00', 'source': 'docs/pdf/buku_panduan_e-office.pdf', 'total_pages': 53, 'page': 1, 'page_label': '2'}, page_content='BADAN PERENCANAAN PENELITIAN DAN \\nPENGEMBANGAN DAERAH \\nDINAS KOMUNIKASI DAN INFORMATIKA \\n \\n \\n \\n \\n \\n \\n \\nDokumen Panduan Pengguna dan Teknis \\nAplikasi e-office \\n \\n \\n \\n \\n \\n \\n \\n \\n \\nBADAN PERENCANAAN PENELITIAN DAN PENGEMBANGAN DAERAH \\nTAHUN 2022'),\n",
       " Document(metadata={'producer': 'Pdftools SDK', 'creator': 'PyPDF', 'creationdate': '', 'moddate': '2025-02-15T05:48:46+00:00', 'source': 'docs/pdf/buku_panduan_e-office.pdf', 'total_pages': 53, 'page': 2, 'page_label': '3'}, page_content='i \\n \\n \\n \\n \\n \\n \\nDAFTAR ISI \\nHalaman \\nDAFTAR ISI ...................................................................................................................................................... i \\nDAFTAR GAMBAR .......................................................................................................................................... ii \\nBAB I PENDAHULUAN................................ ................................ ................................ ..... 1 \\n1.1 LATAR BELAKANG .................................................................................................................................................................... 1 \\n1.2 TUJUAN PEMBUATAN DOKUMEN .......................................................................................................................................... 2 \\n1.3 DESKRIPSI UMUM SISTEM ...................................................................................................................................................... 3 \\nBAB II PETUNJUK PENGGUNAAN ................................ ................................ ................... 4 \\n2.1 STRUKTUR MENU ....................................................................................................................................... 4 \\n2.2 PETUNJUK PENGGUNAAN APLIKASI ............................................................................................................ 5 \\n2.2.1 Cara membuka aplikasi E-Office ........................................................................... 5 \\n2.2.2 Halaman Beranda Aplikasi ................................................................................... 6 \\n2.2.3 Menu Explorer .................................................................................................... 9 \\n2.2.4 Menu Notifikasi .................................................................................................. 14 \\n2.2.5 Petunjuk Penggunaan Administrator .................................................................... 16 \\n2.2.6 Petunjuk Penggunaan Pengguna (User)............................................................... 34'),\n",
       " Document(metadata={'producer': 'Pdftools SDK', 'creator': 'PyPDF', 'creationdate': '', 'moddate': '2025-02-15T05:48:46+00:00', 'source': 'docs/pdf/buku_panduan_e-office.pdf', 'total_pages': 53, 'page': 3, 'page_label': '4'}, page_content='ii \\n \\n \\nDAFTAR GAMBAR \\nHalaman \\nGAMBAR 2. 1 ALAMAT URL E-OFFICE ....................................................................................................................... 5 \\nGAMBAR 2. 2 HALAMAN LOGIN .................................................................................................................................. 5 \\nGAMBAR 2. 3 HALAMAN DASHBOARD Admin ...................................................................................... 6 \\nGAMBAR 2. 4 HALAMAN DASHBOARD Kepala Badan ........................................................................... 6 \\nGAMBAR 2. 5 HALAMAN DASHBOARD Sekretaris ................................................................................ 7 \\nGAMBAR 2. 6 HALAMAN DASHBOARD Kabid ....................................................................................... 7 \\nGAMBAR 2. 7 Halaman Dashboard Kasubbag/Sub Koordinator ..................................................................... 8 \\nGAMBAR 2. 8 Halaman Dashboar Staf .......................................................................................... 8 \\nGAMBAR 2. 9 MENU EXPLORER Administrator ................................................................................... 9 \\nGAMBAR 2. 10 MENU EXPLORER PENGGUNA (Kasubbag/Sub Koordinator) ............................................... 10 \\nGAMBAR 2. 11 MENU EXPLORER PENGGUNA (Kepala Bidang) ................................................................... 10 \\nGAMBAR 2. 12 MENU EXPLORER PENGGUNA (Kepala Badan) .................................................................... 11 \\nGAMBAR 2. 13 MENU EXPLORER PENGGUNA (Sekretaris) .......................................................................................... 11 \\nGAMBAR 2. 14 MENU EXPLORER PENGGUNA (Staf) ................................................................................................... 12 \\nGAMBAR 2. 15 MENU Ubah PASSWORD ................................................................................................................. 12 \\nGAMBAR 2. 16 HALAMAN GANTI PASSWORD .......................................................................................................... 13 \\nGAMBAR 2. 17 MENU LOGOUT ................................................................................................................................ 13 \\nGAMBAR 2. 18 MENU NOTIFIKASI ........................................................................................................................... 14 \\nGAMBAR 2. 19 Akses MENU NOTIFIKASI ................................................................................................................ 14 \\nGAMBAR 2. 20 MENU Data Master ....................................................................................................................... 15 \\nGAMBAR 2. 21 Halaman Data Klasifikasi .......................................................................................................... 16 \\nGAMBAR 2. 22 Tambah Data Indeks Klasifikasi .............................................................................................. 16 \\nGAMBAR 2. 23 Halaman Tambah Data Indeks Klasifikasi ............................................................................. 17 \\nGAMBAR 2. 24 Pilihan Aksi Data Indeks Klasifikasi Surat (edit) .................................................................. 18 \\nGAMBAR 2. 25 Ubah Data Indeks Klasifikasi Surat ........................................................................................ 18 \\nGAMBAR 2. 26 Pilihan Aksi Data Indeks Klasifikasi (Hapus) ................................................................................... 19 \\nGAMBAR 2. 27 Konfirmasi Hapus Data Klasifikasi ......................................................................... 19 \\nGAMBAR 2. 28 Pencarian Data ............................................................................................................................ 20 \\nGAMBAR 2. 29 Hasil Pencarian Data ........................................................................................... 20 \\nGAMBAR 2. 30 Mengatus Show Entries Data ................................................................................................... 21 \\nGAMBAR 2. 31 Hasil Show Entries Data ............................................................................................................ 21 \\nGAMBAR 2. 32 Halaman Data Jabatan  ............................................................................................................. 22'),\n",
       " Document(metadata={'producer': 'Pdftools SDK', 'creator': 'PyPDF', 'creationdate': '', 'moddate': '2025-02-15T05:48:46+00:00', 'source': 'docs/pdf/buku_panduan_e-office.pdf', 'total_pages': 53, 'page': 4, 'page_label': '5'}, page_content='iii \\n \\n \\nGAMBAR 2. 33 Tambah Data Jabatan ............................................................................................................... 22 \\nGAMBAR 2. 34 Halaman Tambah Jabatan........................................................................................................ 23 \\nGAMBAR 2. 35 Pilihan Aksi Data Jabatan (Ubah) ........................................................................................... 24 \\nGAMBAR 2. 36 Ubah Data Jabatan ..................................................................................................................... 24 \\nGAMBAR 2. 37 Pilihan Aksi Data Jabatan(Hapus) ........................................................................................... 25 \\nGAMBAR 2. 38 Konfirmasi Hapus Data Jabatan .............................................................................................. 25 \\nGAMBAR 2. 39 Halaman Data Organisasi ......................................................................................................... 26 \\nGAMBAR 2. 40 Tambah Data Organisasi ...................................................................................... 26 \\nGAMBAR 2. 41 Halaman Tambah Data OPD .................................................................................................... 27 \\nGAMBAR 2. 42 PILIHAN AKSI DATA OPD (Ubah) .............................................................................. 27 \\nGAMBAR 2. 43 Ubah Data Organisasi ................................................................................................................ 28 \\nGAMBAR 2. 44 Pilihan Data Aksi Data OPD ( Hapus) .................................................................................... 28 \\nGAMBAR 2. 45 Konfirmasi Hapus Data OPD .................................................................................................... 29 \\nGAMBAR 2. 46 HALAMAN Data Pengguna ........................................................................................................... 29 \\nGAMBAR 2. 47 Tambah Data Pegawai ......................................................................................... 30 \\nGAMBAR 2. 48 Halaman Tambah Data Pengguna .......................................................................................... 30 \\nGAMBAR 2. 49 Pilihan Aksi Data Pegawai (Ubah) ......................................................................... 31 \\nGAMBAR 2. 50 Ubah Data Pegawai .................................................................................................................... 32 \\nGAMBAR 2. 51 Pilihan Aksi Data Pegawai(Hapus) .......................................................................................... 32 \\nGAMBAR 2. 52 Konfirmasi Hapus Data Pegawai ............................................................................................. 33 \\nGAMBAR 2. 53 Menu Surat Masuk...................................................................................................................... 34 \\nGAMBAR 2. 54 Tambah Surat Masuk ........................................................................................... 34 \\nGAMBAR 2. 55 Tambah Surat Masuk ................................................................................................................. 35 \\nGAMBAR 2. 56 Pilih Asal Surat ............................................................................................................................ 34 \\nGAMBAR 2. 57 Input Tanggal Surat ................................................................................................................... 36 \\nGAMBAR 2. 58 Pemilihat Tingkat Keamanan Surat ....................................................................... 36 \\nGAMBAR 2. 59 Upload File Surat ............................................................................................................................ 37 \\nGAMBAR 2. 60 Melihat Surat Masuk ....................................................................................................................... 37 \\nGAMBAR 2. 61 Lihat Surat Masuk ........................................................................................................................... 38 \\nGAMBAR 2. 62 Lihat Disposisi Surat Masuk...................................................................................................... 38 \\nGAMBAR 2. 63 Membuat Disposisi Surat Masuk ........................................................................... 39 \\nGAMBAR 2. 64 Membuat Disposisi SURAT .......................................................................................................... 40 \\nGAMBAR 2. 65 Halaman Disposisi Surat ...................................................................................... 40 \\nGAMBAR 2. 66 Pilihat Tujuann Surat ................................................................................................................. 41'),\n",
       " Document(metadata={'producer': 'Pdftools SDK', 'creator': 'PyPDF', 'creationdate': '', 'moddate': '2025-02-15T05:48:46+00:00', 'source': 'docs/pdf/buku_panduan_e-office.pdf', 'total_pages': 53, 'page': 5, 'page_label': '6'}, page_content='iv \\n \\n \\nGAMBAR 2. 67 Melihat Disposisi ......................................................................................................................... 41 \\nGAMBAR 2. 68 Halaman Proses Surat Masuk .................................................................................................. 42 \\nGAMBAR 2. 69 Halaman Disposisi Surat Masuk .............................................................................................. 42 \\nGAMBAR 2. 70 Data Surat Keluar ................................................................................................ 43 \\nGAMBAR 2. 71 Halaman Tambah Surat Keluar ............................................................................................... 43 \\nGAMBAR 2. 72 Disposisi Surat Keluar .......................................................................................... 44 \\nGAMBAR 2. 73 Notulen Rapat ............................................................................................................................. 44 \\nGAMBAR 2. 74 Halaman Notulen Rapat ............................................................................................................ 45'),\n",
       " Document(metadata={'producer': 'Pdftools SDK', 'creator': 'PyPDF', 'creationdate': '', 'moddate': '2025-02-15T05:48:46+00:00', 'source': 'docs/pdf/buku_panduan_e-office.pdf', 'total_pages': 53, 'page': 6, 'page_label': '7'}, page_content='BADAN PERENCANAAN PENELITIAN DAN PENGEMBANGAN DAERAH \\n \\nPENDAHULUAN'),\n",
       " Document(metadata={'producer': 'Pdftools SDK', 'creator': 'PyPDF', 'creationdate': '', 'moddate': '2025-02-15T05:48:46+00:00', 'source': 'docs/pdf/buku_panduan_e-office.pdf', 'total_pages': 53, 'page': 7, 'page_label': '8'}, page_content='1 \\n \\n \\nBAB I \\nPENDAHULUAN \\n \\n1.1 Latar Belakang \\n \\nKeandalan dalam mengelola penatausahaan surat menyurat serta arsip di  Bapelitbang \\nKabupaten Bintan menjadi hal yang sangat penting, karena tidak hanya  berdampak pada \\nkinerja Bapelitbang Kabupaten Bintan saja, namun melainkan  berpengaruh pada kinerja \\norganisasi perangkat daerah bahkan stakeholders lain secara  umum. N amun, melihat \\nkondisi eksisting pengelolaan penatausahaan surat menyurat di  bapelitbang Kabupaten \\nBintan masih menemui kendala serta permasalahan yang dapat  disimpulkan sebagai \\nberikut:  \\n1. Belum optimalnya fungsi pengendalian terhadap alur proses maupun admi nistrasi \\nsurat menyurat secara internal karena masih dilaksanakan secara manual. \\n2. Belum optimalnya tertib administrasi persuratan dimana surat masuk yang didisposisi \\nmelalui whatsapp group tidak teregister di surat masuk, dan tidak tercatat diposisi \\ndan perintahnya secara administrasi.  \\n3. Budaya kerja terkait alur persuratan masih bersifat tatap muka yang tidak efektif dan \\nefisien. \\n4. Belum optimalnya pengendalian atas tindaklanjut disposisi terhadap surat masuk \\nyang tidak terdokumentasi dengan baik. \\n5. Kecepatan proses serta tetapatan koordinasi lintas bidang dalam pelaksanaan \\nadministrasi persuratan maupun pengarsipan belum optimal. \\n6. Kondisi fisik gedung arsip sudah penuh dan beberapa arsip disimpan di tempat yang \\nkurang baik. \\n7. Sulit untuk melacak arsip  surat masuk dan keluar dalam kurun waktu lebih dari \\nsetahun. \\nBerbagai permasalahan diatas apabila tidak dilakukan perubahan secara signifikan  akan \\nmemberikan dampak sangat luas. Oleh karena itu urgensi aksi perubahan secara mendasar \\nsangat diperlukan dalam mengoptimalisasi administrasi perkantoran khususnya \\npada persuratan dan pengarsipan secara elektronik. Sasaran utama dari pelaksanaan \\nsistem manajemen perkantoran berbasis digital “e-Office” ini adalah peningkatan penataan \\npersuratan, pengarsipan serta man ajemen perkantoran khususnya pada area koordinasi,  \\nintegrasi, sinkronisasi, dan simplifikasi kinerja aparatur dan birokrasi perangkat daerah di  \\nBapelitbang Kabupaten Bintan. Penggunaan teknologi digital dalam manajemen kantor  \\nmenurut Chistobaev, A., & Kulakovskiy, E. (2020) memberikan gambaran pasti yang dapat'),\n",
       " Document(metadata={'producer': 'Pdftools SDK', 'creator': 'PyPDF', 'creationdate': '', 'moddate': '2025-02-15T05:48:46+00:00', 'source': 'docs/pdf/buku_panduan_e-office.pdf', 'total_pages': 53, 'page': 8, 'page_label': '9'}, page_content='2 \\n \\nmemastikan efisiensi di beberapa bidang administrasi:  \\n \\n1. Mengurangi biaya manajemen dan, karenanya, meminimalkan dokumen. \\n2. Pengurangan waktu untuk penundaan birokrasi dan persiapan dokumen yang  \\ndiperlukan untuk populasi ketika menggunakan platform dalam memecahkan \\nmasalah yang signifikan \\nSaat arsip disimpan di cloud, bukan di file fisik, para pegawai dapat menghemat  waktu \\nuntuk meminta dokumen dari bidang lain, mencari arsip yang tidak pada tempatnya, dan \\nmemperbarui file secara fisik. Ketidaknyamanan seperti harus mencetak catatan dari rapat \\ndan mengirimkannya secara fisik kepada rekan kerja yang tidak hadir dapat  dihilangkan \\nmelalui alur kerja digital. \\nSaat Kepala Badan dan pejabat lintas bidang melihat aplikasi, dengan mudah dapat melihat \\ndan mengadirmistrasi surat menyurat secara real -time tidak hanya menggunakan  \\nperangkat seperti laptop dan komputer bahkan dapat diakses melalui perangkat seluler.  \\nKondisi ini menjadi pengalaman yang harus menjadi area perubahan dengan  \\nmemanfaatkan teknologi, informasi dan komunikasi sebagai tools akselerasi manajemen  \\nadministrasi persuratan dan pengarsipan. Adanya alat bantu teknologi digital dalam  \\nmanajemen dapat meningkatkan efisiensi interaksi antara Bap elitbang Kabupaten Bintan  \\ndengan organisasi perangkat daerah, instansi vertikal, masyarakat maupun stakholders  \\npemerintahan lainnya. Untuk menjawab berbagai masalah yang dihadapi oleh Bapelitbang \\nKabupaten Bintan maka perlu dibuat sistem informasi manajeme n perkantoran berbasis  \\ndigital “e -Office”, sehingga melalui sistem informasi manajemen perkantoran berbasis  \\ndigitak ‘e-Office” ini akan menjadikan pengelolaan penatausahaan persuratan dan arsip di \\nBapelitbang Kabupaten Bintan menjadi lebih cepat, lebih baik dan lebih efisien. \\n \\n1.2 Tujuan Pembuatan Dokumen \\n \\nDokumen user manual aplikasi E-Office ini dibuat untuk tujuan sebagai berikut: \\n1. Menggambarkan dan menjelaskan penggunaan aplikasi E-Office untuk \\nadministrator dan pengguna (user). \\n2. Sebagai panduan instalasi, konfigurasi dan penggunaan aplikasi E-Office. \\n \\nPihak-pihak yang berkepentingan dan berhak dalam penggunaan dokumen ini yaitu \\nsebagai berikut: \\n1. Pengguna (user) KPPPA \\nPengguna (user) menggunakan dokumen ini untuk mengetahui cara penggunaan \\naplikasi E-Office. \\n2. Administrator'),\n",
       " Document(metadata={'producer': 'Pdftools SDK', 'creator': 'PyPDF', 'creationdate': '', 'moddate': '2025-02-15T05:48:46+00:00', 'source': 'docs/pdf/buku_panduan_e-office.pdf', 'total_pages': 53, 'page': 9, 'page_label': '10'}, page_content='3 \\n \\nAdministrator E-Office menggunakan dokumen ini sebagai panduan untuk \\nmenggunakan aplikasi dan melakukan pemeliharaan untuk aplikasi E-Office. \\n \\n \\n1.3 Deskripsi Umum Sistem \\n \\nAplikasi E-Office merupakan alat bantu untuk lingkungan Badan Perencanaan Penelitian \\ndan Pengemban Daerah Kabupaten Bintan  dalam melakukan kegiatan persuratan, dari \\nmulai pengelolaan surat masuk, pengelolaan surat keluar, disposisi surat sampai rekap \\nlaporan surat masuk dan surat keluar.'),\n",
       " Document(metadata={'producer': 'Pdftools SDK', 'creator': 'PyPDF', 'creationdate': '', 'moddate': '2025-02-15T05:48:46+00:00', 'source': 'docs/pdf/buku_panduan_e-office.pdf', 'total_pages': 53, 'page': 10, 'page_label': '11'}, page_content='BADAN PERENCANAAN PENELITIAN DAN PENGEMBANGAN DAERAH \\n \\nPETUNJUK PENGGUNAAN'),\n",
       " Document(metadata={'producer': 'Pdftools SDK', 'creator': 'PyPDF', 'creationdate': '', 'moddate': '2025-02-15T05:48:46+00:00', 'source': 'docs/pdf/buku_panduan_e-office.pdf', 'total_pages': 53, 'page': 11, 'page_label': '12'}, page_content='4 \\n \\n \\nBAB II \\nPETUNJUK PENGGUNAAN \\n \\n2.1 Struktur Menu \\n \\nStruktur menu pada aplikasi E-Office Badan Perencanaan Penelitian dan Pengembangan \\nDaerah Kabupaten Bintan adalah sebagai berikut: \\n1. Menu dashboard \\n \\n2. Master \\n- Instansi \\n- OPD \\n- Bidang \\n- Jabatan \\n- Indeks Klasifikasi Surat \\n- Tingkat Keamanan \\n \\n3. Surat \\n- Penomoran Surat \\n4. Pegawai \\n5. Manajemen Surat \\n- Surat Masuk \\n- Surat Keluar (Selesai) \\n- Surat Keluar (Arsip) \\n \\n6. Cetak Laporan \\n- Surat \\n7. Notulen \\n8. Ubah Password \\n9. Log Out'),\n",
       " Document(metadata={'producer': 'Pdftools SDK', 'creator': 'PyPDF', 'creationdate': '', 'moddate': '2025-02-15T05:48:46+00:00', 'source': 'docs/pdf/buku_panduan_e-office.pdf', 'total_pages': 53, 'page': 12, 'page_label': '13'}, page_content='5 \\n \\n \\n2.2 Petunjuk Penggunaan Aplikasi \\n \\nPada bagian ini akan dijelaskan mengenai tata cara menggunakan aplikasi E-Office untuk \\nadministrator, Kepala Dinas/Badan, Sekretaris, Kabid, Jabatan Sub Koordinator dan Staf. \\n \\n2.2.1 Cara membuka aplikasi E-Office \\n \\nBerikut ini merupakan tata cara untuk memulai aplikasi E-Office: \\n \\n1. Buka aplikasi E-Office melalui web browser (Google Chrome atau Mozila FireFox atau \\nlainnya) dengan memasukkan alamat url sebagai berikut: http://e- \\noffice.bintankab.go.id/. \\n \\nGambar 2. 1 Alamat URL E-Office \\n \\n2. Tekan Enter pada tombol keyboard atau klik tombol Go pada browser untuk membuka \\naplikasi. \\n3. Browser akan menampilkan tampilan halaman depan aplikasi E -Office yaitu sebagai  \\nberikut: \\n \\nGambar 2. 2 Halaman Login \\n \\n4. Apabila halaman depan telah muncul, selanjutnya lakukan login dengan memasukkan \\ne-mail, password kemudian klik tombol Masuk . \\n5. Apabila e-mail, password yang di isikan benar, maka akan masuk ke  halaman utama \\nberupa halaman dashboard.'),\n",
       " Document(metadata={'producer': 'Pdftools SDK', 'creator': 'PyPDF', 'creationdate': '', 'moddate': '2025-02-15T05:48:46+00:00', 'source': 'docs/pdf/buku_panduan_e-office.pdf', 'total_pages': 53, 'page': 13, 'page_label': '14'}, page_content='6 \\n \\n \\n \\n2.2.2 Halaman Beranda Aplikasi \\n \\nHalaman dashboard adalah tampilan menu utama setelah berhasil melakukan login.  \\nDashboard pada aplikasi E-Office menampilkan d a t a  surat masuk, surat keluar, dan \\nPegawai surat serta menampilkan review surat masuk dan surat keluar. Berikut ini  \\nmerupakan halaman dashboard pada aplikasi E-Office: \\n \\n \\nGambar 2. 3 Halaman Dashboard Admin \\n \\n \\nGambar 2. 4 Halaman Dashboard Kepala Badan'),\n",
       " Document(metadata={'producer': 'Pdftools SDK', 'creator': 'PyPDF', 'creationdate': '', 'moddate': '2025-02-15T05:48:46+00:00', 'source': 'docs/pdf/buku_panduan_e-office.pdf', 'total_pages': 53, 'page': 14, 'page_label': '15'}, page_content='7 \\n \\n \\n \\nGambar 2. 5 Halaman Dashboard Sekretaris \\n \\n \\n \\n \\nGambar 2. 6 Halaman Dashboard Kabid'),\n",
       " Document(metadata={'producer': 'Pdftools SDK', 'creator': 'PyPDF', 'creationdate': '', 'moddate': '2025-02-15T05:48:46+00:00', 'source': 'docs/pdf/buku_panduan_e-office.pdf', 'total_pages': 53, 'page': 15, 'page_label': '16'}, page_content='8 \\n \\n \\n \\n \\nGambar 2. 7 Halaman Dashboard Kasubbag/Sub Koordinator \\n \\n \\n \\n \\n \\n \\nGambar 2. 8 Halaman Dashboard Staf'),\n",
       " Document(metadata={'producer': 'Pdftools SDK', 'creator': 'PyPDF', 'creationdate': '', 'moddate': '2025-02-15T05:48:46+00:00', 'source': 'docs/pdf/buku_panduan_e-office.pdf', 'total_pages': 53, 'page': 16, 'page_label': '17'}, page_content='9 \\n \\n \\n2.2.3 Menu Explorer \\n \\nPada tampilan halaman dashboard di sebelah kiri layar terdapat panel yang menampung  \\n“Menu Explorer”. Menu explorer ini dapat di akses oleh semua user, tampilan menu \\nExplorer Berbeda-beda sesuai hak akses yang diberikan.  \\n \\nGambar dibawah merupakan menu explorer yang digunakan sebagai titik masuk ke semua \\nfitur aplikasi E-Office untuk administrator : \\n \\nGambar 2. 9 Menu Explorer Administrator'),\n",
       " Document(metadata={'producer': 'Pdftools SDK', 'creator': 'PyPDF', 'creationdate': '', 'moddate': '2025-02-15T05:48:46+00:00', 'source': 'docs/pdf/buku_panduan_e-office.pdf', 'total_pages': 53, 'page': 17, 'page_label': '18'}, page_content='10 \\n \\n \\nGambar dibawah merupakan menu explorer yang digunakan sebagai titik masuk ke \\nsemua fitur aplikasi E-Office untuk pengguna (Kasubbag/Sub Koordinator) : \\n \\nGambar 2. 10 Menu Explorer Pengguna (Kasubbag/Sub Koordinator) \\n \\n \\nGambar dibawah merupakan menu explorer yang digunakan sebagai titik masuk ke \\nsemua fitur aplikasi E-Office untuk pengguna (Kepala Bidang) : \\n \\nGambar 2. 11 Menu Explorer Pengguna (Kepala Bidang)'),\n",
       " Document(metadata={'producer': 'Pdftools SDK', 'creator': 'PyPDF', 'creationdate': '', 'moddate': '2025-02-15T05:48:46+00:00', 'source': 'docs/pdf/buku_panduan_e-office.pdf', 'total_pages': 53, 'page': 18, 'page_label': '19'}, page_content='11 \\n \\nGambar dibawah merupakan menu explorer yang digunakan sebagai titik masuk ke \\nsemua fitur aplikasi E-Office untuk pengguna (Kepala Badan) : \\n \\nGambar 2. 12 Menu Explorer Pengguna (Kepala Badan) \\n \\n \\nGambar dibawah merupakan menu explorer yang digunakan sebagai titik masuk ke \\nsemua fitur aplikasi E-Office untuk pengguna (Sekretaris) : \\n \\nGambar 2. 13 Menu Explorer Pengguna (Sekretaris) \\n \\nGambar dibawah merupakan menu explorer yang digunakan sebagai titik masuk ke \\nsemua fitur aplikasi E-Office untuk pengguna (Staf) :'),\n",
       " Document(metadata={'producer': 'Pdftools SDK', 'creator': 'PyPDF', 'creationdate': '', 'moddate': '2025-02-15T05:48:46+00:00', 'source': 'docs/pdf/buku_panduan_e-office.pdf', 'total_pages': 53, 'page': 19, 'page_label': '20'}, page_content='12 \\n \\n \\n \\n \\nGambar 2. 14 Menu Explorer Pengguna (Staf) \\n \\n \\n \\n2.2.3.1 Ubah Password \\n \\n1. Untuk mengganti password klik pada foto dan nama maka akan muncul drop- \\ndown yang terdapat pada sebelah kiri layar. Selanjutnya klik “ganti password”. \\n \\n \\nGambar 2. 15 Menu Ubah Password'),\n",
       " Document(metadata={'producer': 'Pdftools SDK', 'creator': 'PyPDF', 'creationdate': '', 'moddate': '2025-02-15T05:48:46+00:00', 'source': 'docs/pdf/buku_panduan_e-office.pdf', 'total_pages': 53, 'page': 20, 'page_label': '21'}, page_content='13 \\n \\n \\n \\n2. Maka akan tampil halaman seperti dibawah ini. \\n \\n \\nGambar 2. 16 Halaman Ganti Password \\n \\n3. Isikan password baru. \\n4. Isikan ulangi password baru. \\n5. Selanjutnya klik Simpan               .  \\n \\n2.2.3.2 Logout \\n \\nUntuk keluar dari aplikasi klik pada foto dan nama maka akan muncul drop-down yang \\nterdapat pada sebelah kiri layar. Selanjutnya klik “Logout”. \\n \\n \\n \\nGambar 2. 17 Menu Logout'),\n",
       " Document(metadata={'producer': 'Pdftools SDK', 'creator': 'PyPDF', 'creationdate': '', 'moddate': '2025-02-15T05:48:46+00:00', 'source': 'docs/pdf/buku_panduan_e-office.pdf', 'total_pages': 53, 'page': 21, 'page_label': '22'}, page_content='14 \\n \\n \\n2.2.4 Menu Notifikasi \\n \\nPada tampilan halaman dashboard di pojok kanan atas terdapat menu yang menampilkan \\nnotifikasi. Menu notifikasi ini terdiri dari menu notifikasi dis posisi, notifikasi surat masuk,  \\nnotifikasi surat keluar, dan notifikasi surat tembusan. \\n \\nGambar 2. 18 Menu Notifikasi \\n \\n1. Berikut ini merupakan cara untuk mengakses menu notifikasi: \\n \\n \\n \\nGambar 2. 19 Menu Notifikasi'),\n",
       " Document(metadata={'producer': 'Pdftools SDK', 'creator': 'PyPDF', 'creationdate': '', 'moddate': '2025-02-15T05:48:46+00:00', 'source': 'docs/pdf/buku_panduan_e-office.pdf', 'total_pages': 53, 'page': 22, 'page_label': '23'}, page_content='15 \\n \\n \\n \\n2.2.5 Petunjuk Penggunaan Administrator \\n \\nSub bab ini akan menjelaskan mengenai tata cara menggunakan aplikasi E -Office untuk \\nadministrator. \\n \\n2.2.5.1. Menu Data Master \\n \\nMenu data master merupakan menu yang digunakan oleh administrator untuk melakukan  \\nmanajemen terhadap data-data yang terkait dengan aplikasi E-Office. Untuk \\nmengaksesnya klik menu data master, kemudian akan muncul sub -sub menu. Pilih salah \\nsatu sub menu. \\n \\nGambar 2. 20 Menu Data Master \\n \\n2.2.5.2. Indeks Klasifikasi Surat \\n \\nSub menu  data klasifikasi  merupakan menu  untuk melakukan  pengelolaan terhadap \\nklasifikasi surat. Berikut merupakan tampilan data klasifikasi.'),\n",
       " Document(metadata={'producer': 'Pdftools SDK', 'creator': 'PyPDF', 'creationdate': '', 'moddate': '2025-02-15T05:48:46+00:00', 'source': 'docs/pdf/buku_panduan_e-office.pdf', 'total_pages': 53, 'page': 23, 'page_label': '24'}, page_content='16 \\n \\n \\n \\n \\nGambar 2. 21 Halaman Data Klasifikasi \\n \\na. Menambahkan data indeks klasifikasi surat \\n   \\n1. Untuk menambahkan indeks data klasifikasi, klik tombol                 pada \\nhalaman data indeks klasifikasi surat. \\n \\n \\nGambar 2. 22 Tambah Data Indeks Klasifikasi'),\n",
       " Document(metadata={'producer': 'Pdftools SDK', 'creator': 'PyPDF', 'creationdate': '', 'moddate': '2025-02-15T05:48:46+00:00', 'source': 'docs/pdf/buku_panduan_e-office.pdf', 'total_pages': 53, 'page': 24, 'page_label': '25'}, page_content='17 \\n \\n \\n2. kemudian akan tampil halaman tambah data klasifikasi yaitu sebagai berikut: \\n \\nGambar 2. 23 Halaman Tambah Data Indeks Klasifikasi \\n \\n3. Lengkapi form isian yang telah disediakan. \\n3.1. Isi pilihan Klasifikasi Surat. \\n3.2. Isi Kode klasifikasi Surat. \\n \\n4. Untuk membatalkan penambahan data klasifikasi, klik tombol kembali , \\nkemudian tampilan akan dikembalikan ke halaman daftar data klasifikasi. \\n5. Untuk melanjutkan penambahan data klasifikasi, klik tombol simpan    . \\n \\n \\nb. Mengubah data indeks klasifikasi surat \\n \\n1. Untuk mengubah data indeks klasifikasi surat, klik pada salah satu nama klasifikasi \\nyang akan diubah, kemudian klik tombol edit (      ).'),\n",
       " Document(metadata={'producer': 'Pdftools SDK', 'creator': 'PyPDF', 'creationdate': '', 'moddate': '2025-02-15T05:48:46+00:00', 'source': 'docs/pdf/buku_panduan_e-office.pdf', 'total_pages': 53, 'page': 25, 'page_label': '26'}, page_content='18 \\n \\n \\n \\n \\n \\nGambar 2. 24 Pilihan aksi Data Indeks Klasifikasi Surat (edit) \\n \\n2. Misalnya klik tombol edit pada kode klasifikasi Kode Klasifikasi 911, maka akan \\nmuncul halaman ubah data klasifikasi yaitu sebagai berikut: \\n \\nGambar 2. 25 Ubah Data Indeks Klasifikasi Surat \\n \\n3. Lengkapi form isian yang akan diubah, apabila data yang akan diubah telah \\nselesai dilengkapi, kemudian klik tombol simpan     .'),\n",
       " Document(metadata={'producer': 'Pdftools SDK', 'creator': 'PyPDF', 'creationdate': '', 'moddate': '2025-02-15T05:48:46+00:00', 'source': 'docs/pdf/buku_panduan_e-office.pdf', 'total_pages': 53, 'page': 26, 'page_label': '27'}, page_content='19 \\n \\nc. Menghapus data indeks klasifikasi surat \\n1. Untuk menghapus data klasifikasi, klik pada salah satu nama klasifikasi yang \\nakan dihapus, kemudian klik tombol Hapus (               ). \\n \\n \\n \\nGambar 2. 26 Pilihan Aksi Data Indeks Klasifikasi (Hapus) \\n \\n2. Kemudian akan muncul tampilan konfirmasi penghapusan data klasifikasi seperti \\nberikut : \\n \\n \\nGambar 2. 27 Konfirmasi Hapus Data Klasifikasi \\n \\n3. Apabila ingin membatalkan klik tombol batalkan         , untuk melanjutkan \\nklik tombol               , hapus! . \\n \\nd. Pencarian data klasifikasi \\n1. Untuk mencari data klasifikasi, klik pada textbox “Search record” yang tersedia di \\npojok kanan atas lalu ketikkan kata kunci yang ingin dicari.'),\n",
       " Document(metadata={'producer': 'Pdftools SDK', 'creator': 'PyPDF', 'creationdate': '', 'moddate': '2025-02-15T05:48:46+00:00', 'source': 'docs/pdf/buku_panduan_e-office.pdf', 'total_pages': 53, 'page': 27, 'page_label': '28'}, page_content='20 \\n \\n \\n \\n \\nGambar 2. 28 Pencarian Data \\n \\n2. misalnya ketikkan “Anggaran” pada pencarian, maka akan tampil hasil \\npencarian yang diinginkan. \\n \\nGambar 2. 29 Hasil Pencarian Data \\n \\n \\ne. Mengatur jumlah data klasifikasi yang ditampilkan \\n1. Untuk mengatur jumlah data klasifikasi yang ingin ditampilkan, klik pada drop- \\ndown “                               ”  yang tersedia di bawah tombol “Tambah”.'),\n",
       " Document(metadata={'producer': 'Pdftools SDK', 'creator': 'PyPDF', 'creationdate': '', 'moddate': '2025-02-15T05:48:46+00:00', 'source': 'docs/pdf/buku_panduan_e-office.pdf', 'total_pages': 53, 'page': 28, 'page_label': '29'}, page_content='21 \\n \\n \\n \\n \\nGambar 2. 30 Mengatur Show Entries Data \\n \\n2. misalnya klik pada drop-down angka 10, maka akan muncul data klasifikasi yang \\nberjumlah 10 pada tampilan. \\n \\nGambar 2. 31 Hasil Show Entries Data \\n \\n2.2.5.3. Data Jabatan \\n \\nSub menu data jabatan merupakan menu untuk melakukan pengelolaan data jabatan \\npada pegawai. Berikut merupakan tampilan data jabatan.'),\n",
       " Document(metadata={'producer': 'Pdftools SDK', 'creator': 'PyPDF', 'creationdate': '', 'moddate': '2025-02-15T05:48:46+00:00', 'source': 'docs/pdf/buku_panduan_e-office.pdf', 'total_pages': 53, 'page': 29, 'page_label': '30'}, page_content='22 \\n \\n \\n \\n \\n \\n \\n \\n \\n \\n \\n \\n \\n \\n \\n \\n \\n \\n \\n \\nGambar 2. 32 Halaman Data Jabatan \\n \\na. Menambahkan data jabatan \\n \\n1. Untuk menambahkan data jabatan, klik tombol tambah  \\ndata jabatan. \\n \\n \\n \\n \\n \\n \\n \\n \\n \\n \\n \\n \\n \\n \\n \\n \\nGambar 2. 33 Tambah Data Jabatan \\n   pada halaman'),\n",
       " Document(metadata={'producer': 'Pdftools SDK', 'creator': 'PyPDF', 'creationdate': '', 'moddate': '2025-02-15T05:48:46+00:00', 'source': 'docs/pdf/buku_panduan_e-office.pdf', 'total_pages': 53, 'page': 30, 'page_label': '31'}, page_content='23 \\n \\n \\n \\n2. kemudian akan tampil halaman tambah data jabatan yaitu sebagai berikut : \\n \\n \\n \\n \\nGambar 2. 34 Halaman Tambah Jabatan \\n \\n3. Lengkapi form isian yang telah disediakan. \\n3.1. Isi Bidang \\n3.2. Isi Atasan \\n3.3. Isi Nama Jabatan \\n3.4. Isi Level \\n \\n \\n4. Untuk membatalkan penambahan data jabatan, klik tombol             \\nkembali  , kemudian tampilan akan dikembalikan ke halaman daftar data jabatan. \\n5. Untuk melanjutkan penambahan data jabatan, klik tombol simpan                .'),\n",
       " Document(metadata={'producer': 'Pdftools SDK', 'creator': 'PyPDF', 'creationdate': '', 'moddate': '2025-02-15T05:48:46+00:00', 'source': 'docs/pdf/buku_panduan_e-office.pdf', 'total_pages': 53, 'page': 31, 'page_label': '32'}, page_content='24 \\n \\n \\n \\nb. Mengubah data jabatan \\n1. Untuk mengubah data jabatan, klik pada salah satu nama jabatan yang akan \\n \\ndiubah, kemudian klik tombol Ubah (          ).  \\n \\n \\n \\nGambar 2. 35 Pilihan Aksi Data Jabatan (Ubah) \\n \\n2. Setelah di klik tombol edit, maka akan muncul halaman ubah data jabatan yaitu \\nsebagai berikut: \\n \\nGambar 2. 36 Ubah Data Jabatan \\n \\n3. Lengkapi form isian yang akan diubah, apabila data yang akan diubah telah \\nselesai dilengkapi, kemudian klik tombol simpan              .'),\n",
       " Document(metadata={'producer': 'Pdftools SDK', 'creator': 'PyPDF', 'creationdate': '', 'moddate': '2025-02-15T05:48:46+00:00', 'source': 'docs/pdf/buku_panduan_e-office.pdf', 'total_pages': 53, 'page': 32, 'page_label': '33'}, page_content='25 \\n \\n \\n \\n \\nc. Menghapus data jabatan \\n1. Untuk menghapus data jabatan, klik pada salah satu nama jabatan yang akan \\ndihapus, kemudian klik tombol Hapus (              ). \\n \\nGambar 2. 37 Pilihan Aksi Data Jabatan (Hapus) \\n \\n2. Kemudian akan muncul tampilan konfirmasi penghapusan data jabatan seperti \\nberikut : \\n \\n \\n \\nGambar 2. 38 Konfirmasi Hapus Data Jabatan \\n \\n3. Apabila ingin membatalkan klik tombol batal            , untuk melanjutkan klik \\ntombol Hapus             .'),\n",
       " Document(metadata={'producer': 'Pdftools SDK', 'creator': 'PyPDF', 'creationdate': '', 'moddate': '2025-02-15T05:48:46+00:00', 'source': 'docs/pdf/buku_panduan_e-office.pdf', 'total_pages': 53, 'page': 33, 'page_label': '34'}, page_content='26 \\n \\n \\n2.2.5.4. Data Organisasi \\n \\nSub menu data organisasi merupakan menu untuk melakukan pengelolaan jenis \\norganisasi pada E-Office. Berikut merupakan tampilan data OPD. \\n \\n \\nGambar 2. 39 Halaman Data Organisasi \\n \\na. Menambahkan data OPD \\n \\n1. Menambahkan data organisasi, klik tombol tambah                      pada data \\nOPD \\n \\n \\n \\n \\n \\n \\n \\n \\n \\n \\n \\n \\n \\n \\n \\n \\n \\n \\nGambar 2. 40 Tambah Data Organisasi'),\n",
       " Document(metadata={'producer': 'Pdftools SDK', 'creator': 'PyPDF', 'creationdate': '', 'moddate': '2025-02-15T05:48:46+00:00', 'source': 'docs/pdf/buku_panduan_e-office.pdf', 'total_pages': 53, 'page': 34, 'page_label': '35'}, page_content='27 \\n \\n \\nKemudian akan tampil halaman tambah data OPD yaitu sebagai berikut: \\n \\nGambar 2. 41 Halaman Tambah Data OPD \\n \\n2. Lengkapi form isian tambah data organisasi yang telah disediakan. \\n2.1. Isi nama OPD \\n2.2. Isi Instansi \\n3. Untuk membatalkan penambahan data organisasi, klik tombol batal  , \\nkemudian tampilan akan dikembalikan ke halaman daftar data organisasi. \\n4. Untuk melanjutkan penambahan data organisasi, klik tombol simpan                   . \\n \\nb. Mengubah data organisasi \\n1. Apabila ingin mengubah data organisasi, klik pada salah satu nama organisasi \\n \\nyang akan diubah, kemudian klik tombol edit (                ). \\n \\n \\n \\n \\n \\n \\n \\n \\n \\n \\n \\n \\n \\n \\nGambar 2. 42 Pilihan Aksi Data OPD (Ubah)'),\n",
       " Document(metadata={'producer': 'Pdftools SDK', 'creator': 'PyPDF', 'creationdate': '', 'moddate': '2025-02-15T05:48:46+00:00', 'source': 'docs/pdf/buku_panduan_e-office.pdf', 'total_pages': 53, 'page': 35, 'page_label': '36'}, page_content='28 \\n \\n \\n2. Setelah di klik tombol edit, maka akan muncul halaman ubah data organisasi yaitu \\nsebagai berikut: \\n \\nGambar 2. 43 Ubah Data Organisasi \\n \\n3. Lengkapi form isian ubah data, apabila data yang akan diubah telah selesai \\ndilengkapi, kemudian klik tombol simpan                  . \\n \\nc. Menghapus data organisasi \\n1. Untuk menghapus data organisasi, klik pada salah satu nama organisasi yang \\nakan dihapus, kemudian klik tombol Hapus (                 ). \\n \\nGambar 2. 44 Pilihan Aksi Data OPD (Hapus)'),\n",
       " Document(metadata={'producer': 'Pdftools SDK', 'creator': 'PyPDF', 'creationdate': '', 'moddate': '2025-02-15T05:48:46+00:00', 'source': 'docs/pdf/buku_panduan_e-office.pdf', 'total_pages': 53, 'page': 36, 'page_label': '37'}, page_content='29 \\n \\n \\n2. Kemudian akan muncul tampilan konfirmasi penghapusan data OPD seperti \\nberikut : \\n \\nGambar 2. 45 Konfirmasi Hapus Data OPD \\n \\n3. Untuk membatalkan klik tombol batal             , untuk melanjutkan klik \\ntombol hapus             . \\n \\n2.2.5.5. Data Pegawai \\n \\nSub menu data pegawai merupakan menu untuk melakukan pengelolaan terhadap \\npengguna aplikasi E-Office. Berikut merupakan tampilan data pegawai. \\n \\nGambar 2. 46 Halaman Data Pengguna'),\n",
       " Document(metadata={'producer': 'Pdftools SDK', 'creator': 'PyPDF', 'creationdate': '', 'moddate': '2025-02-15T05:48:46+00:00', 'source': 'docs/pdf/buku_panduan_e-office.pdf', 'total_pages': 53, 'page': 37, 'page_label': '38'}, page_content='30 \\n \\n \\na. Menambahkan data pegawai \\n \\n1. Untuk menambahkan data pengguna, klik tombol tambah \\nhalaman data pegawai. \\npada \\n \\n \\nGambar 2. 47 Tambah Data Pegawai \\n \\n2. Kemudian akan tampil halaman tambah data pegawai yaitu sebagai berikut: \\n \\n \\n \\n Gambar 2. 48 Halaman Tambah Data Pengguna \\n \\n3. Lengkapi form isian tambah data pengguna yang telah disediakan. \\n3.1. Isi NIP Pegawai \\n3.2. Isi Nama Pegawai.'),\n",
       " Document(metadata={'producer': 'Pdftools SDK', 'creator': 'PyPDF', 'creationdate': '', 'moddate': '2025-02-15T05:48:46+00:00', 'source': 'docs/pdf/buku_panduan_e-office.pdf', 'total_pages': 53, 'page': 38, 'page_label': '39'}, page_content='31 \\n \\n \\n3.3. Jabatan \\n \\n \\n4. Untuk membatalkan penambahan data pengguna, klik tombol batal , \\nkemudian tampilan akan dikembalikan ke halaman daftar data pengguna. \\n5. Untuk melanjutkan penambahan data pengguna, klik tombol simpan                . \\n \\n \\nb. Mengubah data pegawai \\n1. Untuk mengubah data pegawai, klik pada salah satu nama pengguna yang \\n \\nakan diubah, kemudian klik tombol ubah (              ). \\n \\n \\nGambar 2. 49 Pilihan Aksi Data Pegawai (Ubah)'),\n",
       " Document(metadata={'producer': 'Pdftools SDK', 'creator': 'PyPDF', 'creationdate': '', 'moddate': '2025-02-15T05:48:46+00:00', 'source': 'docs/pdf/buku_panduan_e-office.pdf', 'total_pages': 53, 'page': 39, 'page_label': '40'}, page_content='32 \\n \\n \\n2. Setelah di klik tombol ubah, maka akan muncul halaman ubah data Pegawai \\nyaitu sebagai berikut: \\n \\nGambar 2. 50 Ubah Data Pegawai \\n \\n3. Lengkapi form isian data, apabila data yang akan diubah telah selesai dilengkapi, \\nkemudian klik tombol simpan                     . \\n \\nc. Menghapus data pegawai \\n1. Menghapus data pegawai, klik pada salah satu nama pegawai  yang akan \\ndihapus, kemudian klik tombol Hapus (                 ). \\n \\nGambar 2. 51 Pilihan Aksi Data Pegawai (Hapus)'),\n",
       " Document(metadata={'producer': 'Pdftools SDK', 'creator': 'PyPDF', 'creationdate': '', 'moddate': '2025-02-15T05:48:46+00:00', 'source': 'docs/pdf/buku_panduan_e-office.pdf', 'total_pages': 53, 'page': 40, 'page_label': '41'}, page_content='33 \\n \\n \\n2. Maka akan tampil popup konfirmasi penghapusan data pengguna sebagai \\nberikut. \\n \\n \\nGambar 2. 52 Konfirmasi Hapus Data Pegawai \\n \\n3. Apabila ingin membatalkan klik tombol batalkan            , untuk melanjutkan \\nklik tombol Hapus             .'),\n",
       " Document(metadata={'producer': 'Pdftools SDK', 'creator': 'PyPDF', 'creationdate': '', 'moddate': '2025-02-15T05:48:46+00:00', 'source': 'docs/pdf/buku_panduan_e-office.pdf', 'total_pages': 53, 'page': 41, 'page_label': '42'}, page_content='34 \\n \\n \\n2.2.6 Petunjuk Penggunaan admin Surat Masuk \\n \\nSub bab ini akan menjelaskan mengenai tata cara menggunakan aplikasi E-Office untuk \\nadmin. \\n \\n2.2.6.1 Membuat Surat masuk \\n \\nLangkah pertama dalam pembuatan surat masuk dimulai dari melakukan login sebagai \\nstaf. Jika login berhasil, maka akan muncul tampilan dashboard. \\n1. Untuk membuat surat masuk pilih menu manajemen Surat, kemudian pilih sub \\nmenu Surat Masuk. \\n \\nGambar 2. 53 Menu Surat Masuk \\n \\n2. Maka akan tampil halaman urat masuk. \\n \\n \\nGambar 2. 54 Tambah Surat Masuk'),\n",
       " Document(metadata={'producer': 'Pdftools SDK', 'creator': 'PyPDF', 'creationdate': '', 'moddate': '2025-02-15T05:48:46+00:00', 'source': 'docs/pdf/buku_panduan_e-office.pdf', 'total_pages': 53, 'page': 42, 'page_label': '43'}, page_content='35 \\n \\n \\n3. Klik Tambah                      maka akan tampil form entry surat masuk. \\n \\nGambar 2. 55 Tambah Surat Masuk \\n4. Isikan status dan nomor surat pada field status surat dan nomor surat. \\n5. Kemudian isi Perihal surat. \\n6. Kemudian Pilih Asal Surat. \\n \\nGambar 2. 56 Pilih Asal Surat'),\n",
       " Document(metadata={'producer': 'Pdftools SDK', 'creator': 'PyPDF', 'creationdate': '', 'moddate': '2025-02-15T05:48:46+00:00', 'source': 'docs/pdf/buku_panduan_e-office.pdf', 'total_pages': 53, 'page': 43, 'page_label': '44'}, page_content='36 \\n \\n7. Kemudian pilih tanggal surat. \\n \\n \\nGambar 2. 57 Input Tanggal Surat \\n \\n8. Pilih jenis tingkat keamanan surat. \\n \\n \\nGambar 2. 58 Pemilihan Tingkat Keamanan Surat'),\n",
       " Document(metadata={'producer': 'Pdftools SDK', 'creator': 'PyPDF', 'creationdate': '', 'moddate': '2025-02-15T05:48:46+00:00', 'source': 'docs/pdf/buku_panduan_e-office.pdf', 'total_pages': 53, 'page': 44, 'page_label': '45'}, page_content='37 \\n \\n \\n9. Selanjutnya klik Choose File untuk upload File Surat. \\n \\n \\nGambar 2. 59 Upload File Surat \\n \\n \\n10. Selanjutnya klik Simpan                     . \\n \\n \\n \\n2.2.6.2 Melihat Surat Masuk \\n \\nSurat masuk yang telah dibuat  akan muncul pada halaman surat masuk. \\n1. Klik tombol +           , kemudian akan terbuka   dan . \\n \\n \\nGambar 2. 60 Melihat Surat Masuk'),\n",
       " Document(metadata={'producer': 'Pdftools SDK', 'creator': 'PyPDF', 'creationdate': '', 'moddate': '2025-02-15T05:48:46+00:00', 'source': 'docs/pdf/buku_panduan_e-office.pdf', 'total_pages': 53, 'page': 45, 'page_label': '46'}, page_content='38 \\n \\n \\n2. Klik Lihat surat masuk     , akan tampil halaman sebagai berikut? \\n \\n \\nGambar 2. 61 Lihat Surat Masuk \\n \\n \\n3. Untuk lihat disposisi klik          , akan tampil halaman sebagai berikut:  \\n \\n \\n \\nGambar 2. 62 Lihat Disposisi Surat Masuk'),\n",
       " Document(metadata={'producer': 'Pdftools SDK', 'creator': 'PyPDF', 'creationdate': '', 'moddate': '2025-02-15T05:48:46+00:00', 'source': 'docs/pdf/buku_panduan_e-office.pdf', 'total_pages': 53, 'page': 46, 'page_label': '47'}, page_content='39 \\n \\n \\n \\n \\n2.2.6.3 Membuat Disposisi Surat Masuk \\n \\nMasuk user Surat masuk Kepala Badan pada notifikasi atau melalui sub menu daftar surat \\nmasuk. Kepala dapat  melakukan disposisi surat. Pilih salah salah satu surat yang akan \\ndilakukan disposisi. \\n \\n \\nGambar 2. 63 Membuat Disposisi Surat Masuk'),\n",
       " Document(metadata={'producer': 'Pdftools SDK', 'creator': 'PyPDF', 'creationdate': '', 'moddate': '2025-02-15T05:48:46+00:00', 'source': 'docs/pdf/buku_panduan_e-office.pdf', 'total_pages': 53, 'page': 47, 'page_label': '48'}, page_content='40 \\n \\n \\n \\n \\n1. Disposisi surat dapat dilakukan dengan klik pilih disposisi . \\n \\nGambar 2. 64 Membuat Disposisi Surat \\n \\n2. Selanjutnya akan muncul tampilan buat disposisi. \\n \\n \\nGambar 2. 65 Halaman Disposisi Surat'),\n",
       " Document(metadata={'producer': 'Pdftools SDK', 'creator': 'PyPDF', 'creationdate': '', 'moddate': '2025-02-15T05:48:46+00:00', 'source': 'docs/pdf/buku_panduan_e-office.pdf', 'total_pages': 53, 'page': 48, 'page_label': '49'}, page_content='41 \\n \\n3. Dibawah List Disposisi klik list box yang berisi nama tujuan disposisi. \\n \\n \\n \\nGambar 2. 66 Pilihan Tujuan Surat \\n \\n \\n \\n4. Selanjutnya isikan keterangan disposisi.kemudian simpan. \\n \\n \\n2.2.6.4 Melihat Disposisi \\n \\nKepala bidang dapat melihat disposisi surat.pada menu surat masuk atau Pada icon \\ndiatas . \\n1. Akan tampil disposisi berikut . \\n \\n \\nGambar 2. 67 Melihat Disposisi'),\n",
       " Document(metadata={'producer': 'Pdftools SDK', 'creator': 'PyPDF', 'creationdate': '', 'moddate': '2025-02-15T05:48:46+00:00', 'source': 'docs/pdf/buku_panduan_e-office.pdf', 'total_pages': 53, 'page': 49, 'page_label': '50'}, page_content='42 \\n \\n \\n \\n \\n2. Maka akan tampil halaman data surat masuk seperti berikut,klik no surat seperti \\npada gambar. \\n \\n \\nGambar 2. 68 Halaman Proses Surat Masuk \\n \\n3. Tampilan detail surat dan untuk disposisi kembali . \\n \\nGambar 2. 69 Halaman Disposisi Surat Masuk \\n \\n2.2.6.5 Membuat Surat Keluar Staf \\n \\nMasuk ke user staf untuk mulai membuat surat keluar \\n1. Klik tombol tambah.'),\n",
       " Document(metadata={'producer': 'Pdftools SDK', 'creator': 'PyPDF', 'creationdate': '', 'moddate': '2025-02-15T05:48:46+00:00', 'source': 'docs/pdf/buku_panduan_e-office.pdf', 'total_pages': 53, 'page': 50, 'page_label': '51'}, page_content='43 \\n \\n \\nGambar 2. 70 Data Surat Keluar \\n \\n \\n2. Maka akan tampil halaman seperti dibawah ini. \\n \\n \\nGambar 2. 71 Halaman Tambah Surat Keluar \\n \\n \\n3. Isi Sesuai Form, Selajutnya klik Simpan                . \\n \\n \\n \\n2.2.6.6 Verifikasi Surat Keluar Subkoordinator,Kabid, Sekretaris dan Kepala \\nBapelitbang \\nDari Staf, Subkoordinator dapat meneruskan surat keluar ke Kabid,dari Kabid Ke Sekretaris \\ndan dari Sekretaris ke Kepala Bapelitbang..'),\n",
       " Document(metadata={'producer': 'Pdftools SDK', 'creator': 'PyPDF', 'creationdate': '', 'moddate': '2025-02-15T05:48:46+00:00', 'source': 'docs/pdf/buku_panduan_e-office.pdf', 'total_pages': 53, 'page': 51, 'page_label': '52'}, page_content='44 \\n \\n1. Setelah login klik sub menu Surat keluar, kemudian klik                       untuk \\nmembuka tampilan disposisi . \\n \\n \\nGambar 2. 72 Disposisi Surat Keluar \\n \\n2. Setelah  disposisi surat keluar tidak ada perubahan, artinya surat keluar sudah \\ndisetujui dan akan Kembali di user staf untuk dikirimkan. \\n \\n \\n2.2.6.7 Membuat Notulen \\n \\nMenu Notulen Rapat ini untuk Menyimpan File Notulen Rapat.Cara nya dengan membuka \\nmenu notulen Rapat. \\n1. Resume surat dapat dilakukan dengan menekan tombol resume . \\n \\n \\nGambar 2. 73 Notulen Rapat \\n \\n2. Klik Tambah, Maka akan tampil halaman seperti dibawah ini.'),\n",
       " Document(metadata={'producer': 'Pdftools SDK', 'creator': 'PyPDF', 'creationdate': '', 'moddate': '2025-02-15T05:48:46+00:00', 'source': 'docs/pdf/buku_panduan_e-office.pdf', 'total_pages': 53, 'page': 52, 'page_label': '53'}, page_content='45 \\n \\n \\nGambar 2. 74 Halaman Notulen Rapat \\n \\n3. Isikan Judul Rapat dan Tanggal Rapat. \\n4. Selanjutnya upload file dengan klik          setelah itu klik                    .')]"
      ]
     },
     "execution_count": 14,
     "metadata": {},
     "output_type": "execute_result"
    }
   ],
   "source": [
    "pages"
   ]
  },
  {
   "cell_type": "code",
   "execution_count": 15,
   "metadata": {},
   "outputs": [
    {
     "data": {
      "text/plain": [
       "53"
      ]
     },
     "execution_count": 15,
     "metadata": {},
     "output_type": "execute_result"
    }
   ],
   "source": [
    "len(pages)"
   ]
  },
  {
   "cell_type": "code",
   "execution_count": 16,
   "metadata": {},
   "outputs": [
    {
     "data": {
      "text/plain": [
       "Document(metadata={'producer': 'Pdftools SDK', 'creator': 'PyPDF', 'creationdate': '', 'moddate': '2025-02-15T05:48:46+00:00', 'source': 'docs/pdf/buku_panduan_e-office.pdf', 'total_pages': 53, 'page': 0, 'page_label': '1'}, page_content='Dokumen Panduan Pengguna dan \\nTeknis \\nAplikasi e-office')"
      ]
     },
     "execution_count": 16,
     "metadata": {},
     "output_type": "execute_result"
    }
   ],
   "source": [
    "pages[0]"
   ]
  },
  {
   "cell_type": "code",
   "execution_count": 17,
   "metadata": {},
   "outputs": [
    {
     "data": {
      "text/plain": [
       "'Dokumen Panduan Pengguna dan \\nTeknis \\nAplikasi e-office'"
      ]
     },
     "execution_count": 17,
     "metadata": {},
     "output_type": "execute_result"
    }
   ],
   "source": [
    "pages[0].page_content"
   ]
  },
  {
   "cell_type": "code",
   "execution_count": 18,
   "metadata": {},
   "outputs": [
    {
     "data": {
      "text/plain": [
       "{'producer': 'Pdftools SDK',\n",
       " 'creator': 'PyPDF',\n",
       " 'creationdate': '',\n",
       " 'moddate': '2025-02-15T05:48:46+00:00',\n",
       " 'source': 'docs/pdf/buku_panduan_e-office.pdf',\n",
       " 'total_pages': 53,\n",
       " 'page': 0,\n",
       " 'page_label': '1'}"
      ]
     },
     "execution_count": 18,
     "metadata": {},
     "output_type": "execute_result"
    }
   ],
   "source": [
    "pages[0].metadata"
   ]
  },
  {
   "cell_type": "code",
   "execution_count": 19,
   "metadata": {},
   "outputs": [],
   "source": [
    "from langchain.text_splitter import RecursiveCharacterTextSplitter\n",
    "\n",
    "text_splitter = RecursiveCharacterTextSplitter(\n",
    "    chunk_size=1000,\n",
    "    chunk_overlap=150,\n",
    "    length_function=len,\n",
    "    separators=[\"\\n\\n\", \"\\n\", \" \", \"\"]\n",
    ")"
   ]
  },
  {
   "cell_type": "code",
   "execution_count": 20,
   "metadata": {},
   "outputs": [],
   "source": [
    "docs = text_splitter.split_documents(pages)"
   ]
  },
  {
   "cell_type": "code",
   "execution_count": 21,
   "metadata": {},
   "outputs": [
    {
     "data": {
      "text/plain": [
       "71"
      ]
     },
     "execution_count": 21,
     "metadata": {},
     "output_type": "execute_result"
    }
   ],
   "source": [
    "len(docs)"
   ]
  },
  {
   "cell_type": "code",
   "execution_count": 22,
   "metadata": {},
   "outputs": [],
   "source": [
    "# ! pip install pymupdf"
   ]
  },
  {
   "cell_type": "code",
   "execution_count": 23,
   "metadata": {},
   "outputs": [],
   "source": [
    "# import fitz  \n",
    "# import numpy as np\n",
    "# import os\n",
    "# from PIL import Image\n",
    "# import io\n",
    "\n",
    "# def extract_text_images(pdf_path, output_dir=\"images\"):\n",
    "#     \"\"\"Ekstrak teks dan gambar dari PDF\"\"\"\n",
    "#     doc = fitz.open(pdf_path)\n",
    "#     texts = []\n",
    "#     os.makedirs(output_dir, exist_ok=True)\n",
    "#     image_paths = []\n",
    "\n",
    "#     for page_num in range(len(doc)):\n",
    "#         page = doc[page_num]\n",
    "#         texts.append(page.get_text(\"text\"))\n",
    "\n",
    "#         for img_index, img in enumerate(page.get_images(full=True)):\n",
    "#             xref = img[0]\n",
    "#             base_image = doc.extract_image(xref)\n",
    "#             img_bytes = base_image[\"image\"]\n",
    "#             img_path = os.path.join(output_dir, f\"page_{page_num + 1}_img_{img_index + 1}.png\")\n",
    "#             Image.open(io.BytesIO(img_bytes)).save(img_path)\n",
    "#             image_paths.append(img_path)\n",
    "    \n",
    "#     return texts, image_paths\n",
    "\n",
    "# pdf_path = \"docs/pdf/buku_panduan_e-office.pdf\"  \n",
    "# texts, image_paths = extract_text_images(pdf_path)"
   ]
  },
  {
   "cell_type": "code",
   "execution_count": 24,
   "metadata": {},
   "outputs": [],
   "source": [
    "# texts"
   ]
  },
  {
   "cell_type": "code",
   "execution_count": 25,
   "metadata": {},
   "outputs": [],
   "source": [
    "# len(texts)"
   ]
  },
  {
   "cell_type": "code",
   "execution_count": 26,
   "metadata": {},
   "outputs": [],
   "source": [
    "# texts[0]"
   ]
  },
  {
   "cell_type": "code",
   "execution_count": null,
   "metadata": {},
   "outputs": [],
   "source": []
  }
 ],
 "metadata": {
  "kernelspec": {
   "display_name": "venv",
   "language": "python",
   "name": "python3"
  },
  "language_info": {
   "codemirror_mode": {
    "name": "ipython",
    "version": 3
   },
   "file_extension": ".py",
   "mimetype": "text/x-python",
   "name": "python",
   "nbconvert_exporter": "python",
   "pygments_lexer": "ipython3",
   "version": "3.9.13"
  }
 },
 "nbformat": 4,
 "nbformat_minor": 2
}
